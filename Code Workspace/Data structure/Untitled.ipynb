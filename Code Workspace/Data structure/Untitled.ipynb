{
 "cells": [
  {
   "cell_type": "code",
   "execution_count": 5,
   "metadata": {
    "scrolled": true
   },
   "outputs": [
    {
     "ename": "SyntaxError",
     "evalue": "Missing parentheses in call to 'print'. Did you mean print(\"Is BST\")? (<ipython-input-5-63d5bd06373b>, line 41)",
     "output_type": "error",
     "traceback": [
      "\u001b[1;36m  File \u001b[1;32m\"<ipython-input-5-63d5bd06373b>\"\u001b[1;36m, line \u001b[1;32m41\u001b[0m\n\u001b[1;33m    print \"Is BST\"\u001b[0m\n\u001b[1;37m                 ^\u001b[0m\n\u001b[1;31mSyntaxError\u001b[0m\u001b[1;31m:\u001b[0m Missing parentheses in call to 'print'. Did you mean print(\"Is BST\")?\n"
     ]
    }
   ],
   "source": [
    "# Python program to check if a binary tree is bst or not \n",
    "INT_MAX = 4294967296\n",
    "INT_MIN = -4294967296\n",
    "\n",
    "# A binary tree node \n",
    "class Node(): \n",
    "\n",
    "    # Constructor to create a new node \n",
    "    def __init__(self, data): \n",
    "        self.data = data \n",
    "        self.left = None\n",
    "        self.right = None\n",
    "\n",
    "    # Returns true if the given tree is a binary search tree \n",
    "    def isBST(node): \n",
    "        return (isBSTUtil(node, INT_MIN, INT_MAX)) \n",
    "\n",
    "    # Retusn true if the given tree is a BST and its values  >= min and <= max \n",
    "    def isBSTUtil(node, mini, maxi): \n",
    "\n",
    "        # An empty tree is BST \n",
    "        if node is None: \n",
    "            return True\n",
    "\n",
    "        # False if this node violates min/max constraint \n",
    "        if node.data < mini or node.data > maxi: \n",
    "            return False\n",
    "\n",
    "        # Otherwise check the subtrees recursively \n",
    "        # tightening the min or max constraint \n",
    "        return (isBSTUtil(node.left, mini, node.data -1) and isBSTUtil(node.right, node.data+1, maxi)) \n",
    "\n",
    "    # Driver program to test above function \n",
    "    root = Node(4) \n",
    "    root.left = Node(2) \n",
    "    root.right = Node(5) \n",
    "    root.left.left = Node(1) \n",
    "    root.left.right = Node(3) \n",
    "\n",
    "    if (isBST(root)): \n",
    "        print(\"Is BST\")\n",
    "    else: \n",
    "        print(\"Not a BST\")"
   ]
  },
  {
   "cell_type": "code",
   "execution_count": null,
   "metadata": {},
   "outputs": [],
   "source": []
  }
 ],
 "metadata": {
  "kernelspec": {
   "display_name": "Python 3",
   "language": "python",
   "name": "python3"
  },
  "language_info": {
   "codemirror_mode": {
    "name": "ipython",
    "version": 3
   },
   "file_extension": ".py",
   "mimetype": "text/x-python",
   "name": "python",
   "nbconvert_exporter": "python",
   "pygments_lexer": "ipython3",
   "version": "3.7.6"
  }
 },
 "nbformat": 4,
 "nbformat_minor": 4
}
