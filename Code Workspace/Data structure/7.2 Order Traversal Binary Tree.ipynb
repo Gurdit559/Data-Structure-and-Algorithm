{
 "cells": [
  {
   "cell_type": "markdown",
   "metadata": {},
   "source": [
    "## Pre-Order Traversal (NLR)"
   ]
  },
  {
   "cell_type": "code",
   "execution_count": 4,
   "metadata": {},
   "outputs": [],
   "source": [
    "def preorder_traversal(self,root):\n",
    "    if root is None:\n",
    "        return []\n",
    "    \n",
    "    return [root.value] + self.preorder_traversal(root.left) + self.preorder_traversal(root.right)"
   ]
  },
  {
   "cell_type": "markdown",
   "metadata": {},
   "source": [
    "## In-Order Traversal (LNR)"
   ]
  },
  {
   "cell_type": "code",
   "execution_count": 5,
   "metadata": {},
   "outputs": [],
   "source": [
    "def inorder_traversal(self,root):\n",
    "    if root is None:\n",
    "        return []\n",
    "    \n",
    "    return self.inorder_traversal(root.left) + [root.value] + self.inorder_traversal(root.right)"
   ]
  },
  {
   "cell_type": "markdown",
   "metadata": {},
   "source": [
    "## Post-Order Traversal (LRN)"
   ]
  },
  {
   "cell_type": "code",
   "execution_count": 6,
   "metadata": {},
   "outputs": [],
   "source": [
    "def postorder_traversal(self,root):\n",
    "    if root is None:\n",
    "        return []\n",
    "    \n",
    "    return self.postorder_traversal(root.left) + self.postorder_traversal(root.right) + [root.value] "
   ]
  },
  {
   "cell_type": "code",
   "execution_count": null,
   "metadata": {},
   "outputs": [],
   "source": []
  }
 ],
 "metadata": {
  "kernelspec": {
   "display_name": "Python 3",
   "language": "python",
   "name": "python3"
  },
  "language_info": {
   "codemirror_mode": {
    "name": "ipython",
    "version": 3
   },
   "file_extension": ".py",
   "mimetype": "text/x-python",
   "name": "python",
   "nbconvert_exporter": "python",
   "pygments_lexer": "ipython3",
   "version": "3.7.6"
  }
 },
 "nbformat": 4,
 "nbformat_minor": 4
}
