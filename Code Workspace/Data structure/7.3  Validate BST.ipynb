{
 "cells": [
  {
   "cell_type": "markdown",
   "metadata": {},
   "source": [
    "## Validate BST"
   ]
  },
  {
   "cell_type": "code",
   "execution_count": 14,
   "metadata": {},
   "outputs": [],
   "source": [
    "class Node():\n",
    "    def __init__(self,data):\n",
    "        self.left = None #left edge\n",
    "        self.data = data\n",
    "        self.right = None #right edge"
   ]
  },
  {
   "cell_type": "code",
   "execution_count": 15,
   "metadata": {},
   "outputs": [
    {
     "name": "stdout",
     "output_type": "stream",
     "text": [
      "Is BST\n"
     ]
    }
   ],
   "source": [
    "# Python program to check if a binary tree is bst or not \n",
    "INT_MAX = 4294967296\n",
    "INT_MIN = -4294967296\n",
    "\n",
    "\n",
    "# Returns true if the given tree is a binary search tree \n",
    "def isBST(node): \n",
    "    return (isBSTUtil(node, INT_MIN, INT_MAX)) \n",
    "\n",
    "# Retusn true if the given tree is a BST and its values  >= min and <= max \n",
    "def isBSTUtil(node, mini, maxi): \n",
    "\n",
    "    # An empty tree is BST \n",
    "    if node is None: \n",
    "        return True\n",
    "\n",
    "    # False if this node violates min/max constraint \n",
    "    if node.data < mini or node.data > maxi: \n",
    "        return False\n",
    "\n",
    "    # Otherwise check the subtrees recursively \n",
    "    # tightening the min or max constraint \n",
    "    return ( isBSTUtil(node.left, mini, node.data -1) and isBSTUtil(node.right, node.data+1, maxi)) \n",
    "\n",
    "# Driver program to test above function \n",
    "root = Node(4) \n",
    "root.left = Node(2) \n",
    "root.right = Node(5) \n",
    "root.left.left = Node(1) \n",
    "root.left.right = Node(3) \n",
    "\n",
    "if (isBST(root)): \n",
    "    print(\"Is BST\")\n",
    "else: \n",
    "    print(\"Not a BST\")"
   ]
  },
  {
   "cell_type": "code",
   "execution_count": null,
   "metadata": {},
   "outputs": [],
   "source": []
  }
 ],
 "metadata": {
  "kernelspec": {
   "display_name": "Python 3",
   "language": "python",
   "name": "python3"
  },
  "language_info": {
   "codemirror_mode": {
    "name": "ipython",
    "version": 3
   },
   "file_extension": ".py",
   "mimetype": "text/x-python",
   "name": "python",
   "nbconvert_exporter": "python",
   "pygments_lexer": "ipython3",
   "version": "3.7.6"
  }
 },
 "nbformat": 4,
 "nbformat_minor": 4
}
