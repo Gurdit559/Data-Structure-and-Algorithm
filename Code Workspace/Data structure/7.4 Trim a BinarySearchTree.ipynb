{
 "cells": [
  {
   "cell_type": "markdown",
   "metadata": {},
   "source": [
    "# Trim a Binary Search Tree \n",
    "\n",
    "\n",
    "Given the root of a binary search tree and 2 numbers min and max, trim the tree such that all the numbers in the new tree are between min and max (inclusive). The resulting tree should still be a valid binary search tree.\n",
    "___\n",
    "and we’re given **min value as 5** and **max value as 13**: \n",
    "___\n",
    "We should remove all the nodes whose value is not between min and max. \n"
   ]
  },
  {
   "cell_type": "code",
   "execution_count": 1,
   "metadata": {},
   "outputs": [],
   "source": [
    "def trimBST(tree, minVal, maxVal): \n",
    "    \n",
    "    if not tree: \n",
    "        return \n",
    "    \n",
    "    tree.left=trimBST(tree.left, minVal, maxVal) \n",
    "    tree.right=trimBST(tree.right, minVal, maxVal) \n",
    "    \n",
    "    if minVal<=tree.val<=maxVal: \n",
    "        return tree \n",
    "    \n",
    "    if tree.val<minVal: \n",
    "        return tree.right \n",
    "    \n",
    "    if tree.val>maxVal: \n",
    "        return tree.left "
   ]
  },
  {
   "cell_type": "markdown",
   "metadata": {},
   "source": [
    "The complexity of this algorithm is O(N), where N is the number of nodes in the tree. Because we basically perform a post-order traversal of the tree, visiting each and every node one. "
   ]
  },
  {
   "cell_type": "code",
   "execution_count": null,
   "metadata": {},
   "outputs": [],
   "source": []
  }
 ],
 "metadata": {
  "kernelspec": {
   "display_name": "Python 3",
   "language": "python",
   "name": "python3"
  },
  "language_info": {
   "codemirror_mode": {
    "name": "ipython",
    "version": 3
   },
   "file_extension": ".py",
   "mimetype": "text/x-python",
   "name": "python",
   "nbconvert_exporter": "python",
   "pygments_lexer": "ipython3",
   "version": "3.7.6"
  }
 },
 "nbformat": 4,
 "nbformat_minor": 1
}
