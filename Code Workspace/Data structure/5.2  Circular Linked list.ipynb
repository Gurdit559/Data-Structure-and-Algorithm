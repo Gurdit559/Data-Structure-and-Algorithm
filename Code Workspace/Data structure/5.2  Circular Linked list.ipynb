{
 "cells": [
  {
   "cell_type": "markdown",
   "metadata": {},
   "source": [
    "## Implementing Circular Linked list"
   ]
  },
  {
   "cell_type": "code",
   "execution_count": 3,
   "metadata": {},
   "outputs": [],
   "source": [
    "#linked list\n",
    "\n",
    "class Node():\n",
    "    def __init__(self,value):\n",
    "        self.value=value\n",
    "        self.next=None"
   ]
  },
  {
   "cell_type": "code",
   "execution_count": 10,
   "metadata": {},
   "outputs": [],
   "source": [
    "class LinkedList():\n",
    "\n",
    "    def __init__ (self):\n",
    "        self.head = None #not string,not integer. only placeholder\n",
    "        self.tail = None\n",
    "        self.length = 0\n",
    "\n",
    "    def prepend(self, value):\n",
    "        #create a container node to hold value\n",
    "        new_node = Node(value)\n",
    "        new_node.next = self.head\n",
    "        self.head = new_node\n",
    "        self.length += 1\n",
    "        #modify tail.next to first node of list\n",
    "        self.tail.next=self.head\n",
    "\n",
    "    def insert(self, value,index):\n",
    "        #check params --> index inbound\n",
    "        #create a container node to hold value\n",
    "        new_node = Node(value)\n",
    "        temp_head = self.head\n",
    "        #run for index times\n",
    "        for i in range(index-1):\n",
    "            temp_head = temp_head.next\n",
    "\n",
    "        leader = temp_head\n",
    "        follower = leader.next\n",
    "        leader.next = new_node\n",
    "        new_node.next = follower\n",
    "        self.length += 1\n",
    "        #modify tail.next to first node of list\n",
    "        self.tail.next=self.head\n",
    "\n",
    "    def remove(self,index):\n",
    "        if index>=0 and index<=self.length-1:\n",
    "            # = self.length - 1\n",
    "            #if index given-remove the given Node\n",
    "            #otherwise delete last node\n",
    "            if index==0: #modify head\n",
    "                self.head=self.head.next\n",
    "                self.length -= 1\n",
    "            elif index == self.length-1: #modify tail\n",
    "                temp_head = self.head\n",
    "                for i in range(index-2):\n",
    "                    temp_head = temp_head.next\n",
    "                self.tail=temp_head.next\n",
    "                self.tail.next=None\n",
    "                self.length -= 1\n",
    "            else: #(majority-cases)\n",
    "                temp_head = self.head\n",
    "                for i in range(index-1):\n",
    "                    temp_head = temp_head.next\n",
    "\n",
    "                leader = temp_head\n",
    "                follower = leader.next\n",
    "                leader.next = follower.next\n",
    "                self.length -= 1\n",
    "        else:\n",
    "            print('enter valid index')\n",
    "\n",
    "\n",
    "    def val_at_ind(self, index):\n",
    "        temp_head = self.head\n",
    "        #run for index times\n",
    "        for i in range(index):\n",
    "            temp_head = temp_head.next\n",
    "        return temp_head.value\n",
    "\n",
    "    def find(self, data):\n",
    "        #return true if found else false\n",
    "        temp_head = self.head\n",
    "        while(temp_head != None):\n",
    "            if temp_head.value == data:\n",
    "                return True\n",
    "            temp_head = temp_head.next #i=+1\n",
    "            return False\n",
    "\n",
    "    def printLL(self):\n",
    "        temp_head = self.head\n",
    "        while(temp_head):   #object at  = True      None = False\n",
    "            print(temp_head.value)\n",
    "            temp_head = temp_head.next"
   ]
  },
  {
   "cell_type": "code",
   "execution_count": 12,
   "metadata": {},
   "outputs": [
    {
     "ename": "AttributeError",
     "evalue": "'NoneType' object has no attribute 'next'",
     "output_type": "error",
     "traceback": [
      "\u001b[1;31m---------------------------------------------------------------------------\u001b[0m",
      "\u001b[1;31mAttributeError\u001b[0m                            Traceback (most recent call last)",
      "\u001b[1;32m<ipython-input-12-515d476b5855>\u001b[0m in \u001b[0;36m<module>\u001b[1;34m\u001b[0m\n\u001b[0;32m      1\u001b[0m \u001b[0mmyLL\u001b[0m \u001b[1;33m=\u001b[0m \u001b[0mLinkedList\u001b[0m\u001b[1;33m(\u001b[0m\u001b[1;33m)\u001b[0m\u001b[1;33m\u001b[0m\u001b[1;33m\u001b[0m\u001b[0m\n\u001b[1;32m----> 2\u001b[1;33m \u001b[0mmyLL\u001b[0m\u001b[1;33m.\u001b[0m\u001b[0mprepend\u001b[0m\u001b[1;33m(\u001b[0m\u001b[1;36m10\u001b[0m\u001b[1;33m)\u001b[0m\u001b[1;33m\u001b[0m\u001b[1;33m\u001b[0m\u001b[0m\n\u001b[0m\u001b[0;32m      3\u001b[0m \u001b[0mmyLL\u001b[0m\u001b[1;33m.\u001b[0m\u001b[0mprepend\u001b[0m\u001b[1;33m(\u001b[0m\u001b[1;36m20\u001b[0m\u001b[1;33m)\u001b[0m\u001b[1;33m\u001b[0m\u001b[1;33m\u001b[0m\u001b[0m\n\u001b[0;32m      4\u001b[0m \u001b[0mmyLL\u001b[0m\u001b[1;33m.\u001b[0m\u001b[0mprepend\u001b[0m\u001b[1;33m(\u001b[0m\u001b[1;36m30\u001b[0m\u001b[1;33m)\u001b[0m\u001b[1;33m\u001b[0m\u001b[1;33m\u001b[0m\u001b[0m\n\u001b[0;32m      5\u001b[0m \u001b[0mmyLL\u001b[0m\u001b[1;33m.\u001b[0m\u001b[0mprintLL\u001b[0m\u001b[1;33m(\u001b[0m\u001b[1;33m)\u001b[0m\u001b[1;33m\u001b[0m\u001b[1;33m\u001b[0m\u001b[0m\n",
      "\u001b[1;32m<ipython-input-10-ab2fa8c628e7>\u001b[0m in \u001b[0;36mprepend\u001b[1;34m(self, value)\u001b[0m\n\u001b[0;32m     13\u001b[0m         \u001b[0mself\u001b[0m\u001b[1;33m.\u001b[0m\u001b[0mlength\u001b[0m \u001b[1;33m+=\u001b[0m \u001b[1;36m1\u001b[0m\u001b[1;33m\u001b[0m\u001b[1;33m\u001b[0m\u001b[0m\n\u001b[0;32m     14\u001b[0m         \u001b[1;31m#modify tail.next to first node of list\u001b[0m\u001b[1;33m\u001b[0m\u001b[1;33m\u001b[0m\u001b[1;33m\u001b[0m\u001b[0m\n\u001b[1;32m---> 15\u001b[1;33m         \u001b[0mself\u001b[0m\u001b[1;33m.\u001b[0m\u001b[0mtail\u001b[0m\u001b[1;33m.\u001b[0m\u001b[0mnext\u001b[0m\u001b[1;33m=\u001b[0m\u001b[0mself\u001b[0m\u001b[1;33m.\u001b[0m\u001b[0mhead\u001b[0m\u001b[1;33m\u001b[0m\u001b[1;33m\u001b[0m\u001b[0m\n\u001b[0m\u001b[0;32m     16\u001b[0m \u001b[1;33m\u001b[0m\u001b[0m\n\u001b[0;32m     17\u001b[0m     \u001b[1;32mdef\u001b[0m \u001b[0minsert\u001b[0m\u001b[1;33m(\u001b[0m\u001b[0mself\u001b[0m\u001b[1;33m,\u001b[0m \u001b[0mvalue\u001b[0m\u001b[1;33m,\u001b[0m\u001b[0mindex\u001b[0m\u001b[1;33m)\u001b[0m\u001b[1;33m:\u001b[0m\u001b[1;33m\u001b[0m\u001b[1;33m\u001b[0m\u001b[0m\n",
      "\u001b[1;31mAttributeError\u001b[0m: 'NoneType' object has no attribute 'next'"
     ]
    }
   ],
   "source": [
    "myLL = LinkedList()\n",
    "myLL.prepend(10)\n",
    "myLL.prepend(20)\n",
    "myLL.prepend(30)\n",
    "myLL.printLL()\n",
    "\n",
    "print(\"------------------\")\n",
    "myLL.insert(7,0)\n",
    "myLL.insert(50,5)\n",
    "myLL.insert(3,0)\n",
    "\n",
    "myLL.insert(4002, 2)\n",
    "myLL.printLL()\n",
    "print(\"\\n\")\n",
    "myLL.remove(2)\n",
    "\n",
    "print(\"------------------\")\n",
    "\n",
    "myLL.printLL()\n"
   ]
  },
  {
   "cell_type": "code",
   "execution_count": null,
   "metadata": {},
   "outputs": [],
   "source": []
  },
  {
   "cell_type": "code",
   "execution_count": null,
   "metadata": {},
   "outputs": [],
   "source": []
  }
 ],
 "metadata": {
  "kernelspec": {
   "display_name": "Python 3",
   "language": "python",
   "name": "python3"
  },
  "language_info": {
   "codemirror_mode": {
    "name": "ipython",
    "version": 3
   },
   "file_extension": ".py",
   "mimetype": "text/x-python",
   "name": "python",
   "nbconvert_exporter": "python",
   "pygments_lexer": "ipython3",
   "version": "3.7.6"
  }
 },
 "nbformat": 4,
 "nbformat_minor": 4
}
