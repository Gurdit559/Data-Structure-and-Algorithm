{
 "cells": [
  {
   "cell_type": "markdown",
   "metadata": {},
   "source": [
    "## Queue Implementation via Linked list"
   ]
  },
  {
   "cell_type": "code",
   "execution_count": 1,
   "metadata": {},
   "outputs": [],
   "source": [
    "#linked list\n",
    "\n",
    "class Node():\n",
    "    def __init__(self,value):\n",
    "        self.value=value\n",
    "        self.next=None"
   ]
  },
  {
   "cell_type": "code",
   "execution_count": 3,
   "metadata": {},
   "outputs": [],
   "source": [
    "class Queue():\n",
    "    '''implementing stack using linked list'''\n",
    "  \n",
    "    def __init__(self):\n",
    "        self.head = None #not string,not integer. only placeholder\n",
    "        self.tail = None\n",
    "        self.length = 0\n",
    "\n",
    "    def isEmpty(self):\n",
    "        '''check for emplty stack'''\n",
    "        #self.items == []            --> emplty stack\n",
    "        return self.length==0  # --> len(stack)-zero\n",
    "\n",
    "    def enqueue(self,value):\n",
    "        '''push value in stack'''\n",
    "        #create a container node to hold value\n",
    "        new_node = Node(value)\n",
    "        new_node.next = self.head\n",
    "        self.head = new_node\n",
    "        self.length += 1\n",
    "\n",
    "    def dequeue(self):\n",
    "        '''pops value from stack and returns it''' \n",
    "        temp_head = self.head\n",
    "        for i in range(self.length-2):\n",
    "            temp_head = temp_head.next\n",
    "\n",
    "        val=temp_head.next.value\n",
    "        self.tail=temp_head\n",
    "        self.tail.next=None\n",
    "        self.length -= 1\n",
    "        return val\n",
    "\n",
    "    def display(self):\n",
    "        temp_head = self.head\n",
    "        while(temp_head):   #object at  = True      None = False\n",
    "            print(temp_head.value)\n",
    "            temp_head = temp_head.next\n",
    "\n",
    "    def peek(self):\n",
    "        return self.tail.value\n",
    "\n",
    "\n",
    "    def size(self):\n",
    "        '''return size of stack'''\n",
    "        return self.len"
   ]
  },
  {
   "cell_type": "code",
   "execution_count": null,
   "metadata": {},
   "outputs": [],
   "source": []
  }
 ],
 "metadata": {
  "kernelspec": {
   "display_name": "Python 3",
   "language": "python",
   "name": "python3"
  },
  "language_info": {
   "codemirror_mode": {
    "name": "ipython",
    "version": 3
   },
   "file_extension": ".py",
   "mimetype": "text/x-python",
   "name": "python",
   "nbconvert_exporter": "python",
   "pygments_lexer": "ipython3",
   "version": "3.7.6"
  }
 },
 "nbformat": 4,
 "nbformat_minor": 4
}
