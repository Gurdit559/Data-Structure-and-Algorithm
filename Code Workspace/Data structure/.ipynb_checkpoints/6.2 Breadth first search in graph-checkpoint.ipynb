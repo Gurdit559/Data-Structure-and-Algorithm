{
 "cells": [
  {
   "cell_type": "markdown",
   "metadata": {},
   "source": [
    "## Breadth first search Implementation in graph using Adjancency List"
   ]
  },
  {
   "cell_type": "markdown",
   "metadata": {},
   "source": [
    "### Unweighted graph"
   ]
  },
  {
   "cell_type": "code",
   "execution_count": 2,
   "metadata": {},
   "outputs": [],
   "source": [
    "#method-1 --> hard-coding\n",
    "adj_list={\n",
    "    'A': ['B','D'],\n",
    "    'B': ['A','C'],\n",
    "    'C': ['B'],\n",
    "    'D': ['A','E','F'],\n",
    "    'E': ['D','F','G'],\n",
    "    'F': ['D','E','H'],\n",
    "    'G': ['E','H'],\n",
    "    'H': ['F','G']\n",
    "}"
   ]
  },
  {
   "cell_type": "code",
   "execution_count": 3,
   "metadata": {},
   "outputs": [
    {
     "name": "stdout",
     "output_type": "stream",
     "text": [
      "['A', 'B', 'D', 'C', 'E', 'F', 'G', 'H']\n"
     ]
    }
   ],
   "source": [
    "from queue import Queue\n",
    "\n",
    "#bfs code\n",
    "visited = {}\n",
    "level = {} #distance dict\n",
    "parent = {}\n",
    "bfs_traversal_output=[]\n",
    "queue = Queue()\n",
    "\n",
    "for node in adj_list.keys():\n",
    "    #initialize all \n",
    "    visited[node] = False\n",
    "    level[node] = -1 #inf\n",
    "    parent[node] = None\n",
    "    \n",
    "#for root node\n",
    "s = 'A'\n",
    "visited['A'] = True\n",
    "level['A'] = 0\n",
    "#A has no parent\n",
    "queue.put(s)\n",
    "\n",
    "while not queue.empty():\n",
    "    #push-put pop-get;  pop from queue and store 1st element to bfs_traversal_output list\n",
    "    u = queue.get()\n",
    "    bfs_traversal_output.append(u)\n",
    "    \n",
    "    #now we will check if adj vertex of u is visted or not\n",
    "    for v in adj_list[u]:\n",
    "        #if visited do nothing\n",
    "        if not visited[v]:\n",
    "            visited[v] = True\n",
    "            level[v] = level[u] + 1\n",
    "            parent[v] = u\n",
    "            queue.put(v)\n",
    "    \n",
    "print(bfs_traversal_output)"
   ]
  },
  {
   "cell_type": "markdown",
   "metadata": {},
   "source": [
    "### Shortest distance of all nodes from source node"
   ]
  },
  {
   "cell_type": "code",
   "execution_count": 5,
   "metadata": {},
   "outputs": [
    {
     "name": "stdout",
     "output_type": "stream",
     "text": [
      "{'A': 0, 'B': 1, 'C': 2, 'D': 1, 'E': 2, 'F': 2, 'G': 3, 'H': 3}\n",
      "3\n"
     ]
    }
   ],
   "source": [
    "print(level)\n",
    "print(level['G'])"
   ]
  },
  {
   "cell_type": "markdown",
   "metadata": {},
   "source": [
    "### Shortest path of any nodes from source node"
   ]
  },
  {
   "cell_type": "code",
   "execution_count": 6,
   "metadata": {},
   "outputs": [
    {
     "name": "stdout",
     "output_type": "stream",
     "text": [
      "['A', 'D', 'E', 'G']\n"
     ]
    }
   ],
   "source": [
    "#finding path A-G\n",
    "v='G'\n",
    "path=[]\n",
    "\n",
    "while v is not None:\n",
    "    path.append(v)\n",
    "    v = parent[v]\n",
    "    \n",
    "path.reverse()\n",
    "print(path)"
   ]
  },
  {
   "cell_type": "code",
   "execution_count": null,
   "metadata": {},
   "outputs": [],
   "source": []
  }
 ],
 "metadata": {
  "kernelspec": {
   "display_name": "Python 3",
   "language": "python",
   "name": "python3"
  },
  "language_info": {
   "codemirror_mode": {
    "name": "ipython",
    "version": 3
   },
   "file_extension": ".py",
   "mimetype": "text/x-python",
   "name": "python",
   "nbconvert_exporter": "python",
   "pygments_lexer": "ipython3",
   "version": "3.7.6"
  }
 },
 "nbformat": 4,
 "nbformat_minor": 4
}
