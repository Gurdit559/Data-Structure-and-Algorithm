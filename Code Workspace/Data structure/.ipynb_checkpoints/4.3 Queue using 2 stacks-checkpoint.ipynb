{
 "cells": [
  {
   "cell_type": "markdown",
   "metadata": {},
   "source": [
    "## Implemantation of Queue using 2 stacks"
   ]
  },
  {
   "cell_type": "code",
   "execution_count": 1,
   "metadata": {},
   "outputs": [],
   "source": [
    "class Queue2Stacks(object): \n",
    "    def __init__(self):\n",
    "        # Two Stacks\n",
    "        self.instack = []\n",
    "        self.outstack = []   \n",
    "\n",
    "    def enqueue(self,element):\n",
    "        # Add an enqueue with the \"IN\" stack\n",
    "        self.instack.append(element)\n",
    "\n",
    "    def dequeue(self):\n",
    "        #if outstack is empty then fill it\n",
    "        if len(self.outstack)==0:\n",
    "            #pop from in and push in instack\n",
    "            while len(self.instack):\n",
    "                self.outstack.append(self.instack.pop())\n",
    "        return self.outstack.pop()"
   ]
  },
  {
   "cell_type": "code",
   "execution_count": null,
   "metadata": {},
   "outputs": [],
   "source": []
  }
 ],
 "metadata": {
  "kernelspec": {
   "display_name": "Python 3",
   "language": "python",
   "name": "python3"
  },
  "language_info": {
   "codemirror_mode": {
    "name": "ipython",
    "version": 3
   },
   "file_extension": ".py",
   "mimetype": "text/x-python",
   "name": "python",
   "nbconvert_exporter": "python",
   "pygments_lexer": "ipython3",
   "version": "3.7.6"
  }
 },
 "nbformat": 4,
 "nbformat_minor": 4
}
