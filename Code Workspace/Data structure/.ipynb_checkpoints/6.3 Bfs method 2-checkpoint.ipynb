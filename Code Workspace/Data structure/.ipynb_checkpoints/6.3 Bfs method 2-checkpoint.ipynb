{
 "cells": [
  {
   "cell_type": "code",
   "execution_count": 1,
   "metadata": {},
   "outputs": [],
   "source": [
    "def bfs(graph, root):\n",
    "    visited, queue = set(), [root]\n",
    "    visited.add(root)\n",
    "    while queue: \n",
    "        vertex = queue.pop(0)\n",
    "        print(vertex)\n",
    "        for neighbour in graph[vertex]: \n",
    "            if neighbour not in visited: \n",
    "                visited.add(neighbour) \n",
    "                queue.append(neighbour) "
   ]
  },
  {
   "cell_type": "code",
   "execution_count": 7,
   "metadata": {},
   "outputs": [
    {
     "name": "stdout",
     "output_type": "stream",
     "text": [
      "2\n",
      "3\n",
      "1\n",
      "0\n"
     ]
    }
   ],
   "source": [
    "graph = {\n",
    "        0: [2], \n",
    "        1: [0,2], \n",
    "        2: [3], \n",
    "        3: [1,2]\n",
    "        } \n",
    "bfs(graph, 2) # return 2 3 1 0"
   ]
  },
  {
   "cell_type": "code",
   "execution_count": 4,
   "metadata": {},
   "outputs": [],
   "source": [
    "#method-1 --> hard-coding\n",
    "adj_list={\n",
    "    'A': ['B','D'],\n",
    "    'B': ['A','C'],\n",
    "    'C': ['B'],\n",
    "    'D': ['A','E','F'],\n",
    "    'E': ['D','F','G'],\n",
    "    'F': ['D','E','H'],\n",
    "    'G': ['E','H'],\n",
    "    'H': ['F','G']\n",
    "}"
   ]
  },
  {
   "cell_type": "code",
   "execution_count": 5,
   "metadata": {},
   "outputs": [
    {
     "name": "stdout",
     "output_type": "stream",
     "text": [
      "A\n",
      "B\n",
      "D\n",
      "C\n",
      "E\n",
      "F\n",
      "G\n",
      "H\n"
     ]
    }
   ],
   "source": [
    "bfs(adj_list, 'A')"
   ]
  },
  {
   "cell_type": "code",
   "execution_count": null,
   "metadata": {},
   "outputs": [],
   "source": []
  }
 ],
 "metadata": {
  "kernelspec": {
   "display_name": "Python 3",
   "language": "python",
   "name": "python3"
  },
  "language_info": {
   "codemirror_mode": {
    "name": "ipython",
    "version": 3
   },
   "file_extension": ".py",
   "mimetype": "text/x-python",
   "name": "python",
   "nbconvert_exporter": "python",
   "pygments_lexer": "ipython3",
   "version": "3.7.6"
  }
 },
 "nbformat": 4,
 "nbformat_minor": 4
}
