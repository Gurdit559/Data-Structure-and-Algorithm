{
 "cells": [
  {
   "cell_type": "markdown",
   "metadata": {},
   "source": [
    "## Implementation of Binary Search Tree"
   ]
  },
  {
   "cell_type": "code",
   "execution_count": 69,
   "metadata": {},
   "outputs": [],
   "source": [
    "class Node():\n",
    "    def __init__(self,value):\n",
    "        self.left = None #left edge\n",
    "        self.value = value\n",
    "        self.right = None #right edge"
   ]
  },
  {
   "cell_type": "code",
   "execution_count": 70,
   "metadata": {},
   "outputs": [],
   "source": [
    "class BinarySearchTree():\n",
    "    def __init__(self):\n",
    "        self.root = None\n",
    "        \n",
    "    def add(self,value):\n",
    "        if self.root == None:\n",
    "            self.root = Node(value)\n",
    "        else:\n",
    "            self.add_node(self.root, value)\n",
    "            \n",
    "    def add_node(self, node, value):\n",
    "        if node.value < value:\n",
    "            self.add_right(node, value)\n",
    "        else:\n",
    "            self.add_right(node, value)\n",
    "            \n",
    "    def add_right(self, node, value):\n",
    "        if node.right == None:\n",
    "            node.right = Node(value)\n",
    "        else:\n",
    "            self.add_node(node.right, value)\n",
    "            \n",
    "    def add_left(self, node, value):\n",
    "        if node.left == None:\n",
    "            node.left = Node(value)\n",
    "        else:\n",
    "            self.add_node(node.left, value)\n",
    "    \n",
    "    def lookup(self, value):\n",
    "        #travel tree to find given element and return it if found else return None\n",
    "        currentNode = self.root\n",
    "        while True:\n",
    "            if currentNode == None:\n",
    "                return None\n",
    "            elif value == currentNode.value:\n",
    "                return currentNode.value\n",
    "            elif value > currentNode.value:\n",
    "                #move right\n",
    "                currentNode = currentNode.right\n",
    "            elif value < currentNode.value:\n",
    "                #move left\n",
    "                currentNode = currentNode.left"
   ]
  },
  {
   "cell_type": "code",
   "execution_count": 71,
   "metadata": {},
   "outputs": [],
   "source": [
    "mytree = BinarySearchTree()"
   ]
  },
  {
   "cell_type": "code",
   "execution_count": 72,
   "metadata": {},
   "outputs": [],
   "source": [
    "mytree.add(3)\n",
    "mytree.add(4)\n",
    "mytree.add(0)\n",
    "mytree.add(8)\n",
    "mytree.add(2)"
   ]
  },
  {
   "cell_type": "code",
   "execution_count": 73,
   "metadata": {},
   "outputs": [
    {
     "data": {
      "text/plain": [
       "4"
      ]
     },
     "execution_count": 73,
     "metadata": {},
     "output_type": "execute_result"
    }
   ],
   "source": [
    "mytree.lookup(4)"
   ]
  },
  {
   "cell_type": "code",
   "execution_count": 74,
   "metadata": {},
   "outputs": [
    {
     "data": {
      "text/plain": [
       "<__main__.BinarySearchTree at 0x5769419d88>"
      ]
     },
     "execution_count": 74,
     "metadata": {},
     "output_type": "execute_result"
    }
   ],
   "source": [
    "mytree"
   ]
  },
  {
   "cell_type": "code",
   "execution_count": null,
   "metadata": {},
   "outputs": [],
   "source": []
  }
 ],
 "metadata": {
  "kernelspec": {
   "display_name": "Python 3",
   "language": "python",
   "name": "python3"
  },
  "language_info": {
   "codemirror_mode": {
    "name": "ipython",
    "version": 3
   },
   "file_extension": ".py",
   "mimetype": "text/x-python",
   "name": "python",
   "nbconvert_exporter": "python",
   "pygments_lexer": "ipython3",
   "version": "3.7.6"
  }
 },
 "nbformat": 4,
 "nbformat_minor": 4
}
