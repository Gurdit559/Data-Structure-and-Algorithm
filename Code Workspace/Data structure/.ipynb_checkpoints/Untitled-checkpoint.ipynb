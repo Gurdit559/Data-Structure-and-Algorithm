{
 "cells": [
  {
   "cell_type": "markdown",
   "metadata": {},
   "source": [
    "## Graph Representation using Adjacency List"
   ]
  },
  {
   "cell_type": "code",
   "execution_count": 2,
   "metadata": {},
   "outputs": [],
   "source": [
    "#method-1\n",
    "#hard-coding\n",
    "adj_list={\n",
    "    'A': ['B','C'],\n",
    "    'B': ['A','D'],\n",
    "    'C': ['A','D','E'],\n",
    "    'D': ['B','C','E'],\n",
    "    'E': ['C','D']\n",
    "}"
   ]
  },
  {
   "cell_type": "code",
   "execution_count": 3,
   "metadata": {},
   "outputs": [],
   "source": [
    "#to add a new edge A-D\n",
    "adj_list['A'].append('D')\n",
    "adj_list['D'].append('A')"
   ]
  },
  {
   "cell_type": "code",
   "execution_count": 70,
   "metadata": {},
   "outputs": [
    {
     "data": {
      "text/plain": [
       "{'A': ['B', 'C', 'D'],\n",
       " 'B': ['A', 'D'],\n",
       " 'C': ['A', 'D', 'E'],\n",
       " 'D': ['B', 'C', 'E', 'A'],\n",
       " 'E': ['C', 'D']}"
      ]
     },
     "execution_count": 70,
     "metadata": {},
     "output_type": "execute_result"
    }
   ],
   "source": [
    "#printing graph\n",
    "adj_list"
   ]
  },
  {
   "cell_type": "markdown",
   "metadata": {},
   "source": [
    "## Graph Implementation"
   ]
  },
  {
   "cell_type": "code",
   "execution_count": 53,
   "metadata": {},
   "outputs": [],
   "source": [
    "#vertices:\n",
    "nodes=['A','B','C','D','E']\n",
    "#edges:\n",
    "all_edges=[('A','B'),('A','C'),('B','D'),('C','D'),('C','E'),('D','E')]"
   ]
  },
  {
   "cell_type": "code",
   "execution_count": 134,
   "metadata": {},
   "outputs": [],
   "source": [
    "class Graph():\n",
    "    '''\n",
    "    Graph implementation using adjacency list,undirected and non weighted grpah\n",
    "    '''\n",
    "    \n",
    "    def __init__(self,nodes):\n",
    "        self.nodes=nodes\n",
    "        self.adj_list={}\n",
    "        \n",
    "        for i in self.nodes:\n",
    "            self.adj_list[i]=[]\n",
    "        \n",
    "    def add_node(self,u):\n",
    "        self.adj_list[u]=[]\n",
    "        self.nodes.append(u)\n",
    "        \n",
    "    def add_edge(self,u,v):\n",
    "        self.adj_list[u].append(v)\n",
    "        self.adj_list[v].append(u)\n",
    "                    \n",
    "    def display(self):\n",
    "        for i in self.nodes:\n",
    "            print(i, '-->' , self.adj_list[i])\n",
    "    \n",
    "    def is_connected(self,u,v):\n",
    "        return self.adj_list[u].count(v)==1\n",
    "    \n",
    "    def degree(self,node):\n",
    "        #no of connecting edges \n",
    "        return len(self.adj_list[node])\n",
    "    \n",
    "    def no_of_nodes(self):\n",
    "        return len(self.adj_list)"
   ]
  },
  {
   "cell_type": "code",
   "execution_count": 135,
   "metadata": {},
   "outputs": [],
   "source": [
    "mygrpah=Graph(nodes)"
   ]
  },
  {
   "cell_type": "code",
   "execution_count": 136,
   "metadata": {},
   "outputs": [
    {
     "name": "stdout",
     "output_type": "stream",
     "text": [
      "A --> []\n",
      "B --> []\n",
      "C --> []\n",
      "D --> []\n",
      "E --> []\n"
     ]
    }
   ],
   "source": [
    "mygrpah.display()"
   ]
  },
  {
   "cell_type": "code",
   "execution_count": 137,
   "metadata": {},
   "outputs": [
    {
     "name": "stdout",
     "output_type": "stream",
     "text": [
      "A --> ['B', 'C']\n",
      "B --> ['A', 'D']\n",
      "C --> ['A', 'D', 'E']\n",
      "D --> ['B', 'C', 'E']\n",
      "E --> ['C', 'D']\n"
     ]
    }
   ],
   "source": [
    "#to add multiple edges:\n",
    "for u,v in all_edges:\n",
    "    mygrpah.add_edge(u,v)\n",
    "\n",
    "mygrpah.display()"
   ]
  },
  {
   "cell_type": "code",
   "execution_count": 138,
   "metadata": {},
   "outputs": [
    {
     "name": "stdout",
     "output_type": "stream",
     "text": [
      "A --> ['B', 'C', 'D']\n",
      "B --> ['A', 'D']\n",
      "C --> ['A', 'D', 'E']\n",
      "D --> ['B', 'C', 'E', 'A']\n",
      "E --> ['C', 'D']\n"
     ]
    }
   ],
   "source": [
    "#to add one edge:\n",
    "mygrpah.add_edge('A','D')\n",
    "mygrpah.display()"
   ]
  },
  {
   "cell_type": "code",
   "execution_count": 139,
   "metadata": {},
   "outputs": [
    {
     "data": {
      "text/plain": [
       "3"
      ]
     },
     "execution_count": 139,
     "metadata": {},
     "output_type": "execute_result"
    }
   ],
   "source": [
    "mygrpah.degree('C')"
   ]
  },
  {
   "cell_type": "code",
   "execution_count": 140,
   "metadata": {},
   "outputs": [
    {
     "data": {
      "text/plain": [
       "5"
      ]
     },
     "execution_count": 140,
     "metadata": {},
     "output_type": "execute_result"
    }
   ],
   "source": [
    "mygrpah.no_of_nodes()"
   ]
  },
  {
   "cell_type": "code",
   "execution_count": 141,
   "metadata": {},
   "outputs": [
    {
     "data": {
      "text/plain": [
       "True"
      ]
     },
     "execution_count": 141,
     "metadata": {},
     "output_type": "execute_result"
    }
   ],
   "source": [
    "mygrpah.is_connected('A','D')"
   ]
  },
  {
   "cell_type": "code",
   "execution_count": 142,
   "metadata": {},
   "outputs": [
    {
     "name": "stdout",
     "output_type": "stream",
     "text": [
      "A --> ['B', 'C', 'D']\n",
      "B --> ['A', 'D']\n",
      "C --> ['A', 'D', 'E']\n",
      "D --> ['B', 'C', 'E', 'A']\n",
      "E --> ['C', 'D', 'F']\n",
      "F --> ['E']\n"
     ]
    }
   ],
   "source": [
    "mygrpah.add_node('F')\n",
    "mygrpah.add_edge('E','F')\n",
    "mygrpah.display()"
   ]
  },
  {
   "cell_type": "code",
   "execution_count": null,
   "metadata": {},
   "outputs": [],
   "source": []
  }
 ],
 "metadata": {
  "kernelspec": {
   "display_name": "Python 3",
   "language": "python",
   "name": "python3"
  },
  "language_info": {
   "codemirror_mode": {
    "name": "ipython",
    "version": 3
   },
   "file_extension": ".py",
   "mimetype": "text/x-python",
   "name": "python",
   "nbconvert_exporter": "python",
   "pygments_lexer": "ipython3",
   "version": "3.7.6"
  }
 },
 "nbformat": 4,
 "nbformat_minor": 4
}
