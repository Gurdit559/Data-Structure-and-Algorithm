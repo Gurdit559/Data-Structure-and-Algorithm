{
 "cells": [
  {
   "cell_type": "code",
   "execution_count": 2,
   "metadata": {},
   "outputs": [],
   "source": [
    "#linked list\n",
    "\n",
    "class Node():\n",
    "    def __init__(self,value):\n",
    "        self.value=value\n",
    "        self.next=None"
   ]
  },
  {
   "cell_type": "code",
   "execution_count": 4,
   "metadata": {},
   "outputs": [],
   "source": [
    "class LinkedList():\n",
    "\n",
    "    def __init__ (self):\n",
    "        self.head = None\n",
    "        self.tail = None\n",
    "        self.length = 0\n",
    "\n",
    "    def append(self, value):\n",
    "        #create a container node to hold value\n",
    "        new_node = Node(value)\n",
    "        \n",
    "        #if its first node of list assign head and tail\n",
    "        if self.length == 0:\n",
    "            self.head = new_node\n",
    "            self.tail = new_node\n",
    "            self.length += 1\n",
    "            return\n",
    "\n",
    "        #add node to tail\n",
    "        self.tail.next = new_node\n",
    "        #modify tail to latest node\n",
    "        self.tail = new_node\n",
    "        #increment length\n",
    "        self.length +=1\n",
    "\n",
    "\n",
    "    def printLL(self):\n",
    "        temp_head = self.head\n",
    "        while(temp_head):   #object at  = True      None = False\n",
    "            print(temp_head.value)\n",
    "            temp_head = temp_head.next\n"
   ]
  },
  {
   "cell_type": "code",
   "execution_count": 5,
   "metadata": {},
   "outputs": [
    {
     "name": "stdout",
     "output_type": "stream",
     "text": [
      "list\n",
      "25\n",
      "5\n",
      "2\n",
      "205\n",
      "list data members\n",
      "25\n",
      "205\n",
      "4\n"
     ]
    }
   ],
   "source": [
    "\n",
    "myLL = LinkedList()\n",
    "myLL.append(25)\n",
    "myLL.append(5)\n",
    "myLL.append(2)\n",
    "myLL.append(205)\n",
    "print(\"list\")\n",
    "myLL.printLL()\n",
    "print(\"list data members\")\n",
    "print(myLL.head.value)\n",
    "print(myLL.tail.value)\n",
    "print(myLL.length)\n"
   ]
  },
  {
   "cell_type": "code",
   "execution_count": null,
   "metadata": {},
   "outputs": [],
   "source": []
  }
 ],
 "metadata": {
  "kernelspec": {
   "display_name": "Python 3",
   "language": "python",
   "name": "python3"
  },
  "language_info": {
   "codemirror_mode": {
    "name": "ipython",
    "version": 3
   },
   "file_extension": ".py",
   "mimetype": "text/x-python",
   "name": "python",
   "nbconvert_exporter": "python",
   "pygments_lexer": "ipython3",
   "version": "3.7.6"
  }
 },
 "nbformat": 4,
 "nbformat_minor": 4
}
