{
 "cells": [
  {
   "cell_type": "markdown",
   "metadata": {},
   "source": [
    "## Quick Sort"
   ]
  },
  {
   "cell_type": "code",
   "execution_count": 10,
   "metadata": {},
   "outputs": [],
   "source": [
    "def pivot_place(list1,first,last):\n",
    "    pivot=list1[first]\n",
    "    left=first+1\n",
    "    right=last\n",
    "\n",
    "    while True:\n",
    "        while left<=right and list1[left]<=pivot:\n",
    "            left=left+1\n",
    "        while left<=right and list1[right]>=pivot:\n",
    "            right=right-1\n",
    "\n",
    "        if right<left:\n",
    "            break\n",
    "        else:\n",
    "            list1[left],list1[right]=list1[right],list1[left]\n",
    "\n",
    "    list1[first],list1[right]=list1[right],list1[first]\n",
    "    return right\n",
    "\n",
    "def quicksort(list1,first,last):\n",
    "    if first<last:\n",
    "        p=pivot_place(list1,first,last)\n",
    "        quicksort(list1,first,p-1)\n",
    "        quicksort(list1,p+1,last)\n"
   ]
  },
  {
   "cell_type": "code",
   "execution_count": 11,
   "metadata": {},
   "outputs": [],
   "source": [
    "list1=[7,90,76,7,34,2]\n",
    "n=len(list1)"
   ]
  },
  {
   "cell_type": "code",
   "execution_count": 12,
   "metadata": {},
   "outputs": [
    {
     "name": "stdout",
     "output_type": "stream",
     "text": [
      "[2, 7, 7, 34, 76, 90]\n"
     ]
    }
   ],
   "source": [
    "quicksort(list1,0,n-1)\n",
    "print(list1)"
   ]
  },
  {
   "cell_type": "markdown",
   "metadata": {},
   "source": [
    "## method 2"
   ]
  },
  {
   "cell_type": "code",
   "execution_count": 16,
   "metadata": {},
   "outputs": [],
   "source": [
    "def quick_sort(arr):\n",
    "    quick_sort_helper(arr, 0, len(arr) - 1)\n",
    "#quick_sort\n",
    "\n",
    "def quick_sort_helper(arr, first, last):\n",
    "    if first < last:\n",
    "        pi = partition(arr, first, last)\n",
    "\n",
    "        quick_sort_helper(arr, first, pi - 1)\n",
    "        quick_sort_helper(arr, pi + 1, last)\n",
    "        \n",
    "def partition(arr, first, last):\n",
    "    pivot = arr[first]\n",
    "\n",
    "    left = first + 1\n",
    "    right = last\n",
    "\n",
    "    done = False\n",
    "    while not done:\n",
    "        while left <= right and arr[left] <= pivot:\n",
    "            left += 1\n",
    "\n",
    "        while arr[right] >= pivot and right >= left:\n",
    "            right -= 1\n",
    "\n",
    "        if right < left:\n",
    "            done = True\n",
    "        else:\n",
    "            arr[left], arr[right] = arr[right], arr[left]\n",
    "\n",
    "    arr[first], arr[right] = arr[right], arr[first]\n",
    "\n",
    "    return right"
   ]
  },
  {
   "cell_type": "code",
   "execution_count": 19,
   "metadata": {},
   "outputs": [],
   "source": [
    "list2=[22,44,3,35,1,66,8]\n",
    "quick_sort(list2)"
   ]
  },
  {
   "cell_type": "code",
   "execution_count": 20,
   "metadata": {},
   "outputs": [
    {
     "data": {
      "text/plain": [
       "[1, 3, 8, 22, 35, 44, 66]"
      ]
     },
     "execution_count": 20,
     "metadata": {},
     "output_type": "execute_result"
    }
   ],
   "source": [
    "list2"
   ]
  },
  {
   "cell_type": "code",
   "execution_count": null,
   "metadata": {},
   "outputs": [],
   "source": []
  }
 ],
 "metadata": {
  "kernelspec": {
   "display_name": "Python 3",
   "language": "python",
   "name": "python3"
  },
  "language_info": {
   "codemirror_mode": {
    "name": "ipython",
    "version": 3
   },
   "file_extension": ".py",
   "mimetype": "text/x-python",
   "name": "python",
   "nbconvert_exporter": "python",
   "pygments_lexer": "ipython3",
   "version": "3.7.6"
  }
 },
 "nbformat": 4,
 "nbformat_minor": 4
}
