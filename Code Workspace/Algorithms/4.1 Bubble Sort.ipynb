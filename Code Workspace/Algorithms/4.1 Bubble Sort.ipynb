{
 "cells": [
  {
   "cell_type": "markdown",
   "metadata": {},
   "source": [
    "## Bubble sort"
   ]
  },
  {
   "cell_type": "code",
   "execution_count": 5,
   "metadata": {},
   "outputs": [],
   "source": [
    "arr=[98,23,45,14,6,67,33,42]"
   ]
  },
  {
   "cell_type": "code",
   "execution_count": 22,
   "metadata": {},
   "outputs": [],
   "source": [
    "#method 1-\n",
    "#outerloop will run the times of number of elements:i\n",
    "#at each pass one elements bubbles up to the end\n",
    "#the inner loop will run for each element to bubble up to the end, will run len-i\n",
    "# for swapping use: a,b=b,a"
   ]
  },
  {
   "cell_type": "code",
   "execution_count": 23,
   "metadata": {},
   "outputs": [],
   "source": [
    "def bubble_sort(arr):\n",
    "    for i in range(0,len(arr)-1):\n",
    "        for j in range(0,len(arr)-i-1):\n",
    "            if arr[j]>arr[j+1]:\n",
    "                arr[j],arr[j+1]=arr[j+1],arr[j]\n",
    "                print(arr)\n",
    "    return arr"
   ]
  },
  {
   "cell_type": "code",
   "execution_count": 24,
   "metadata": {},
   "outputs": [],
   "source": [
    "arr=[98,23,45,14,6,67,33,42]"
   ]
  },
  {
   "cell_type": "code",
   "execution_count": 25,
   "metadata": {},
   "outputs": [
    {
     "name": "stdout",
     "output_type": "stream",
     "text": [
      "[23, 98, 45, 14, 6, 67, 33, 42]\n",
      "[23, 45, 98, 14, 6, 67, 33, 42]\n",
      "[23, 45, 14, 98, 6, 67, 33, 42]\n",
      "[23, 45, 14, 6, 98, 67, 33, 42]\n",
      "[23, 45, 14, 6, 67, 98, 33, 42]\n",
      "[23, 45, 14, 6, 67, 33, 98, 42]\n",
      "[23, 45, 14, 6, 67, 33, 42, 98]\n",
      "[23, 14, 45, 6, 67, 33, 42, 98]\n",
      "[23, 14, 6, 45, 67, 33, 42, 98]\n",
      "[23, 14, 6, 45, 33, 67, 42, 98]\n",
      "[23, 14, 6, 45, 33, 42, 67, 98]\n",
      "[14, 23, 6, 45, 33, 42, 67, 98]\n",
      "[14, 6, 23, 45, 33, 42, 67, 98]\n",
      "[14, 6, 23, 33, 45, 42, 67, 98]\n",
      "[14, 6, 23, 33, 42, 45, 67, 98]\n",
      "[6, 14, 23, 33, 42, 45, 67, 98]\n"
     ]
    },
    {
     "data": {
      "text/plain": [
       "[6, 14, 23, 33, 42, 45, 67, 98]"
      ]
     },
     "execution_count": 25,
     "metadata": {},
     "output_type": "execute_result"
    }
   ],
   "source": [
    "bubble_sort(arr)"
   ]
  },
  {
   "cell_type": "code",
   "execution_count": 26,
   "metadata": {},
   "outputs": [
    {
     "name": "stdout",
     "output_type": "stream",
     "text": [
      "[5, 8, 9, 12, 13, 65]\n"
     ]
    }
   ],
   "source": [
    "#method-2\n",
    "my_list = [12, 5, 13, 8, 9, 65]\n",
    " \n",
    "def bubble_sort(arr):\n",
    "    sorted = False\n",
    "    length = len(arr)-1\n",
    "    while not sorted:\n",
    "        sorted = True\n",
    "        for index, value in enumerate(arr[:length]):\n",
    "            if arr[index] > arr[index+1]:\n",
    "                sorted = False\n",
    "                arr[index], arr[index+1] = arr[index+1], arr[index]\n",
    "    return arr\n",
    "    \n",
    "print(bubble_sort(my_list))"
   ]
  },
  {
   "cell_type": "code",
   "execution_count": null,
   "metadata": {},
   "outputs": [],
   "source": []
  }
 ],
 "metadata": {
  "kernelspec": {
   "display_name": "Python 3",
   "language": "python",
   "name": "python3"
  },
  "language_info": {
   "codemirror_mode": {
    "name": "ipython",
    "version": 3
   },
   "file_extension": ".py",
   "mimetype": "text/x-python",
   "name": "python",
   "nbconvert_exporter": "python",
   "pygments_lexer": "ipython3",
   "version": "3.7.6"
  }
 },
 "nbformat": 4,
 "nbformat_minor": 4
}
